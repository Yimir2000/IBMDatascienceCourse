{
 "cells": [
  {
   "cell_type": "markdown",
   "id": "9c3af9f2",
   "metadata": {},
   "source": [
    "# Data Science Tools and Ecosystem"
   ]
  },
  {
   "cell_type": "markdown",
   "id": "fb6c2d22",
   "metadata": {},
   "source": [
    "In this notebook, Data Science Tools and Ecosystem are summarized."
   ]
  },
  {
   "cell_type": "markdown",
   "id": "c92c6328",
   "metadata": {},
   "source": [
    "Some of the popular languages that Data Scientists use are:\n",
    "1. Python\n",
    "2. R\n",
    "3. SQL\n",
    "4. C++\n",
    "5. Java etc"
   ]
  },
  {
   "cell_type": "markdown",
   "id": "a92915ee",
   "metadata": {},
   "source": [
    "Some of the commonly used libraries used by Data Scientists include:\n",
    "\n",
    "1. TensorFlow.\n",
    "2. Numpy\n",
    "3. Scipy\n",
    "4. Pandas\n",
    "5. Matplotlib\n",
    "6. Keras\n",
    "7. Scikit-Learn\n",
    "8. Pytorch etc"
   ]
  },
  {
   "cell_type": "markdown",
   "id": "a535b526",
   "metadata": {},
   "source": [
    "| Data Science Tools  |\n",
    "|---------------------|\n",
    "| SAS                 |\n",
    "| Apache Hadoop       |\n",
    "| TensorFlow          |\n"
   ]
  },
  {
   "cell_type": "markdown",
   "id": "12b4921b",
   "metadata": {},
   "source": [
    "### Below are a few examples of evaluating arithmetic expressions in Python"
   ]
  },
  {
   "cell_type": "code",
   "execution_count": 7,
   "id": "c15d6856",
   "metadata": {},
   "outputs": [
    {
     "data": {
      "text/plain": [
       "17"
      ]
     },
     "execution_count": 7,
     "metadata": {},
     "output_type": "execute_result"
    }
   ],
   "source": [
    "#This a simple arithmetic expression to mutiply then add integers\n",
    "(3*4)+5"
   ]
  },
  {
   "cell_type": "code",
   "execution_count": 8,
   "id": "09fc9dbc",
   "metadata": {},
   "outputs": [
    {
     "data": {
      "text/plain": [
       "3.3333333333333335"
      ]
     },
     "execution_count": 8,
     "metadata": {},
     "output_type": "execute_result"
    }
   ],
   "source": [
    "#This will convert 200 minutes to hours by diving by 60\n",
    "200/60"
   ]
  },
  {
   "cell_type": "markdown",
   "id": "ceefdd27",
   "metadata": {},
   "source": [
    "**Objectives:**\n",
    "\n",
    "- Describe the Data Scientist's toolkit including Libraries, Packages, Data Sets, Machine Learning Models, and Big Data tools.\n",
    "- Utilize commonly used languages like Python, R, and SQL for data science tasks.\n",
    "- Demonstrate working knowledge of tools like Jupyter Notebooks and RStudio, using their various features.\n",
    "- Create and manage source code for data science using Git repositories and GitHub.\n"
   ]
  },
  {
   "cell_type": "markdown",
   "id": "c9f4e086",
   "metadata": {},
   "source": [
    "## Author\n",
    "\n",
    "Aakash Kharbanda"
   ]
  },
  {
   "cell_type": "code",
   "execution_count": null,
   "id": "2ca3519f",
   "metadata": {},
   "outputs": [],
   "source": []
  }
 ],
 "metadata": {
  "kernelspec": {
   "display_name": "Python 3 (ipykernel)",
   "language": "python",
   "name": "python3"
  },
  "language_info": {
   "codemirror_mode": {
    "name": "ipython",
    "version": 3
   },
   "file_extension": ".py",
   "mimetype": "text/x-python",
   "name": "python",
   "nbconvert_exporter": "python",
   "pygments_lexer": "ipython3",
   "version": "3.11.3"
  }
 },
 "nbformat": 4,
 "nbformat_minor": 5
}
